{
 "cells": [
  {
   "cell_type": "code",
   "execution_count": 1,
   "id": "6cabc152",
   "metadata": {},
   "outputs": [],
   "source": [
    "import numpy as np"
   ]
  },
  {
   "cell_type": "code",
   "execution_count": 2,
   "id": "f6f6d226",
   "metadata": {},
   "outputs": [
    {
     "name": "stdout",
     "output_type": "stream",
     "text": [
      "[1 2 3 4]\n",
      "<class 'numpy.ndarray'>\n"
     ]
    }
   ],
   "source": [
    "vec = [1, 2, 3, 4]\n",
    "\n",
    "vec = np.array(vec)\n",
    "\n",
    "print(f'{vec}\\n{type(vec)}')"
   ]
  },
  {
   "cell_type": "markdown",
   "id": "9c7527de",
   "metadata": {},
   "source": [
    "#### shape of matrix"
   ]
  },
  {
   "cell_type": "code",
   "execution_count": 3,
   "id": "9a80ff07",
   "metadata": {},
   "outputs": [
    {
     "name": "stdout",
     "output_type": "stream",
     "text": [
      "(4,)\n"
     ]
    }
   ],
   "source": [
    "print(vec.shape)"
   ]
  },
  {
   "cell_type": "code",
   "execution_count": 4,
   "id": "7eefe8ea",
   "metadata": {},
   "outputs": [
    {
     "name": "stdout",
     "output_type": "stream",
     "text": [
      "[[1 2 3]\n",
      " [4 5 6]\n",
      " [7 8 9]]\n",
      "(3, 3)\n"
     ]
    }
   ],
   "source": [
    "vec_2 = np.array([\n",
    "                 [1, 2, 3],\n",
    "                 [4, 5, 6],\n",
    "                 [7, 8, 9]\n",
    "                 ])\n",
    "\n",
    "print(f'{vec_2}\\n{vec_2.shape}')"
   ]
  },
  {
   "cell_type": "markdown",
   "id": "debe4781",
   "metadata": {},
   "source": [
    "#### shapes\n",
    "\n",
    "\n",
    "- scalar 0-D ==> is a single number\n",
    "- vector 1-D ==> a single row of numbers with 2 or more columns\n",
    "- matrices 2-D ==> it has some rows and some columns\n",
    "- tensor 3-D ==> each row of bigger matrice has another matrice in itself"
   ]
  },
  {
   "cell_type": "code",
   "execution_count": 5,
   "id": "d19127ed",
   "metadata": {},
   "outputs": [],
   "source": [
    "tens = [\n",
    "        [[1, 2, 3, 0], [3, 2, 1, 0], [2, 1, 3, 0]],\n",
    "        [[4, 4, 5, 8], [5, 8, 5, 4], [5, 6, 4, 5]]\n",
    "       ]"
   ]
  },
  {
   "cell_type": "code",
   "execution_count": 6,
   "id": "5caf0baa",
   "metadata": {},
   "outputs": [
    {
     "data": {
      "text/plain": [
       "(2, 3, 4)"
      ]
     },
     "execution_count": 6,
     "metadata": {},
     "output_type": "execute_result"
    }
   ],
   "source": [
    "tens = np.array(tens)\n",
    "tens.shape"
   ]
  },
  {
   "cell_type": "markdown",
   "id": "a3e7a10b",
   "metadata": {},
   "source": [
    "#### np.resize()"
   ]
  },
  {
   "cell_type": "code",
   "execution_count": 7,
   "id": "bff193c4",
   "metadata": {},
   "outputs": [
    {
     "name": "stdout",
     "output_type": "stream",
     "text": [
      "[[1 2 3 4 1]\n",
      " [2 3 4 1 2]\n",
      " [3 4 1 2 3]]\n"
     ]
    }
   ],
   "source": [
    "a = np.array([[1, 2], [3, 4]])\n",
    "\n",
    "a = np.resize(a, (3, 5))\n",
    "\n",
    "print(a)"
   ]
  },
  {
   "cell_type": "code",
   "execution_count": 8,
   "id": "c203d47a",
   "metadata": {},
   "outputs": [
    {
     "name": "stdout",
     "output_type": "stream",
     "text": [
      "[[[1 2]\n",
      "  [3 4]\n",
      "  [1 2]\n",
      "  [3 4]]\n",
      "\n",
      " [[1 2]\n",
      "  [3 4]\n",
      "  [1 2]\n",
      "  [3 4]]\n",
      "\n",
      " [[1 2]\n",
      "  [3 4]\n",
      "  [1 2]\n",
      "  [3 4]]]\n"
     ]
    }
   ],
   "source": [
    "a = np.array([[1, 2], [3, 4]])\n",
    "\n",
    "a = np.resize(a, (3, 4, 2))\n",
    "\n",
    "print(a)"
   ]
  },
  {
   "cell_type": "markdown",
   "id": "3abe2227",
   "metadata": {},
   "source": [
    "#### zeros and ones"
   ]
  },
  {
   "cell_type": "code",
   "execution_count": 9,
   "id": "42212cf6",
   "metadata": {},
   "outputs": [
    {
     "name": "stdout",
     "output_type": "stream",
     "text": [
      "[['1' '1' '1']\n",
      " ['1' '1' '1']]\n"
     ]
    }
   ],
   "source": [
    "vec = np.ones((2,3), dtype=str)\n",
    "\n",
    "print(vec)"
   ]
  },
  {
   "cell_type": "code",
   "execution_count": 10,
   "id": "eb74c965",
   "metadata": {},
   "outputs": [
    {
     "name": "stdout",
     "output_type": "stream",
     "text": [
      "[[1.+0.j 1.+0.j 1.+0.j]\n",
      " [1.+0.j 1.+0.j 1.+0.j]]\n"
     ]
    }
   ],
   "source": [
    "vec = np.ones((2,3), dtype=complex)\n",
    "\n",
    "print(vec)"
   ]
  },
  {
   "cell_type": "code",
   "execution_count": 11,
   "id": "7e3f0151",
   "metadata": {},
   "outputs": [
    {
     "name": "stdout",
     "output_type": "stream",
     "text": [
      "[[[0 0 0]\n",
      "  [0 0 0]]]\n"
     ]
    }
   ],
   "source": [
    "vec = np.zeros((1,2,3), dtype=int)\n",
    "\n",
    "print(vec)"
   ]
  },
  {
   "cell_type": "markdown",
   "id": "74b00830",
   "metadata": {},
   "source": [
    "#### vertical stack\n",
    "\n",
    "column of arrays should be same size"
   ]
  },
  {
   "cell_type": "code",
   "execution_count": 12,
   "id": "33b0b554",
   "metadata": {},
   "outputs": [
    {
     "name": "stdout",
     "output_type": "stream",
     "text": [
      "[[0 0 0]\n",
      " [0 0 0]]\n",
      "\n",
      "[['1' '1' '1']\n",
      " ['1' '1' '1']\n",
      " ['1' '1' '1']\n",
      " ['1' '1' '1']]\n"
     ]
    }
   ],
   "source": [
    "m1 = np.zeros((2,3), int)\n",
    "\n",
    "m2 = np.ones((4,3), str)\n",
    "\n",
    "print(f\"{m1}\\n\\n{m2}\")"
   ]
  },
  {
   "cell_type": "code",
   "execution_count": 13,
   "id": "e029ab6b",
   "metadata": {},
   "outputs": [
    {
     "data": {
      "text/plain": [
       "array([['0', '0', '0'],\n",
       "       ['0', '0', '0'],\n",
       "       ['1', '1', '1'],\n",
       "       ['1', '1', '1'],\n",
       "       ['1', '1', '1'],\n",
       "       ['1', '1', '1']], dtype='<U21')"
      ]
     },
     "execution_count": 13,
     "metadata": {},
     "output_type": "execute_result"
    }
   ],
   "source": [
    "np.vstack((m1,m2))"
   ]
  },
  {
   "cell_type": "markdown",
   "id": "ed3ea0c9",
   "metadata": {},
   "source": [
    "#### horizontal stack\n",
    "\n",
    "row of arrays should be same size"
   ]
  },
  {
   "cell_type": "code",
   "execution_count": 14,
   "id": "2552e480",
   "metadata": {},
   "outputs": [
    {
     "name": "stdout",
     "output_type": "stream",
     "text": [
      "[[0]\n",
      " [0]\n",
      " [0]]\n",
      "\n",
      "[[1. 1. 1.]\n",
      " [1. 1. 1.]\n",
      " [1. 1. 1.]]\n"
     ]
    }
   ],
   "source": [
    "m1 = np.zeros((3,1), int)\n",
    "\n",
    "m2 = np.ones((3, 3))\n",
    "\n",
    "print(f\"{m1}\\n\\n{m2}\")"
   ]
  },
  {
   "cell_type": "code",
   "execution_count": 15,
   "id": "7c3cdbfb",
   "metadata": {},
   "outputs": [
    {
     "data": {
      "text/plain": [
       "array([[1., 1., 1., 0.],\n",
       "       [1., 1., 1., 0.],\n",
       "       [1., 1., 1., 0.]])"
      ]
     },
     "execution_count": 15,
     "metadata": {},
     "output_type": "execute_result"
    }
   ],
   "source": [
    "np.hstack((m2,m1))"
   ]
  },
  {
   "cell_type": "markdown",
   "id": "2f0c61b2",
   "metadata": {},
   "source": [
    "#### dot product"
   ]
  },
  {
   "cell_type": "code",
   "execution_count": 16,
   "id": "35ff7732",
   "metadata": {},
   "outputs": [
    {
     "data": {
      "text/plain": [
       "115"
      ]
     },
     "execution_count": 16,
     "metadata": {},
     "output_type": "execute_result"
    }
   ],
   "source": [
    "a = np.array([1, 2, 3])\n",
    "b = np.array([10, 15, 25])\n",
    "\n",
    "np.dot(a, b )"
   ]
  },
  {
   "cell_type": "code",
   "execution_count": 17,
   "id": "7842ecd7",
   "metadata": {},
   "outputs": [
    {
     "data": {
      "text/plain": [
       "115"
      ]
     },
     "execution_count": 17,
     "metadata": {},
     "output_type": "execute_result"
    }
   ],
   "source": [
    "a = np.array([1, 2, 3])\n",
    "b = np.array([10, 15, 25])\n",
    "\n",
    "a.dot(b)"
   ]
  },
  {
   "cell_type": "markdown",
   "id": "7c3d698a",
   "metadata": {},
   "source": [
    "#### trace of matrices"
   ]
  },
  {
   "cell_type": "code",
   "execution_count": 18,
   "id": "c95c97ab",
   "metadata": {},
   "outputs": [
    {
     "name": "stdout",
     "output_type": "stream",
     "text": [
      "[[4 5 6 7]\n",
      " [1 2 3 9]]\n",
      "\n",
      "[[4 1]\n",
      " [5 2]\n",
      " [6 3]\n",
      " [7 9]]\n"
     ]
    }
   ],
   "source": [
    "mat = np.array([[4, 5, 6, 7], [1, 2, 3, 9]])\n",
    "\n",
    "traceMat = mat.T\n",
    "print(f'{mat}\\n\\n{traceMat}')"
   ]
  },
  {
   "cell_type": "markdown",
   "id": "e298a6d6",
   "metadata": {},
   "source": [
    "#### astype()\n",
    "\n",
    "changes the type of matrices"
   ]
  },
  {
   "cell_type": "code",
   "execution_count": 19,
   "id": "b17a7f61",
   "metadata": {},
   "outputs": [
    {
     "name": "stdout",
     "output_type": "stream",
     "text": [
      "[[4. 5. 6. 7.]\n",
      " [1. 2. 3. 9.]]\n"
     ]
    }
   ],
   "source": [
    "mat = np.array([[4, 5, 6, 7], [1, 2, 3, 9]])\n",
    "\n",
    "mat_2 = mat.astype(\"float\")\n",
    "\n",
    "print(mat_2)"
   ]
  },
  {
   "cell_type": "markdown",
   "id": "7f52adcd",
   "metadata": {},
   "source": [
    "#### mathematical\n",
    "\n",
    "- sum()\n",
    "- min()\n",
    "- max()\n",
    "- argmin()  ==> index of min item in matrix\n",
    "- argmax()  ==> index of max item in matrix\n",
    "- mean()"
   ]
  },
  {
   "cell_type": "code",
   "execution_count": 20,
   "id": "060b3ed7",
   "metadata": {},
   "outputs": [
    {
     "name": "stdout",
     "output_type": "stream",
     "text": [
      "\n",
      "      'sum :'20\n",
      "\n",
      "\n",
      "      'max :'5\n",
      "\n",
      "\n",
      "      'min :'1\n",
      "\n",
      "\n",
      "      'argmin :'0\n",
      "\n",
      "\n",
      "      'argmax :'4\n",
      "\n",
      "\n",
      "      'mean :'3.3333333333333335\n",
      "\n",
      "\n",
      "      'std :'1.4907119849998598\n"
     ]
    }
   ],
   "source": [
    "mat = np.array([[1, 2], [3, 4], [5, 5]])\n",
    "\n",
    "summ = mat.sum()\n",
    "\n",
    "maxx = mat.max()\n",
    "\n",
    "minn = mat.min()\n",
    "\n",
    "armin = mat.argmin()\n",
    "\n",
    "armax = mat.argmax()\n",
    "\n",
    "meann = mat.mean()\n",
    "\n",
    "stdd = mat.std()\n",
    "\n",
    "print(f\"\"\"\n",
    "      'sum :'{summ}\\n\\n\n",
    "      'max :'{maxx}\\n\\n\n",
    "      'min :'{minn}\\n\\n\n",
    "      'argmin :'{armin}\\n\\n\n",
    "      'argmax :'{armax}\\n\\n\n",
    "      'mean :'{meann}\\n\\n\n",
    "      'std :'{stdd}\"\"\")"
   ]
  },
  {
   "cell_type": "markdown",
   "id": "9a40a69e",
   "metadata": {},
   "source": [
    "#### slicing"
   ]
  },
  {
   "cell_type": "code",
   "execution_count": 21,
   "id": "56a54f63",
   "metadata": {},
   "outputs": [
    {
     "data": {
      "text/plain": [
       "array([0, 1, 2, 3, 4, 5, 6, 7])"
      ]
     },
     "execution_count": 21,
     "metadata": {},
     "output_type": "execute_result"
    }
   ],
   "source": [
    "mat = np.arange(8)\n",
    "mat"
   ]
  },
  {
   "cell_type": "code",
   "execution_count": 22,
   "id": "9c690d01",
   "metadata": {},
   "outputs": [
    {
     "data": {
      "text/plain": [
       "array([2, 3, 4])"
      ]
     },
     "execution_count": 22,
     "metadata": {},
     "output_type": "execute_result"
    }
   ],
   "source": [
    "mat[2:5]"
   ]
  },
  {
   "cell_type": "code",
   "execution_count": 23,
   "id": "06dd7b39",
   "metadata": {},
   "outputs": [
    {
     "data": {
      "text/plain": [
       "array([[ 1,  2,  7],\n",
       "       [ 3,  4, 10],\n",
       "       [ 5,  6, 17]])"
      ]
     },
     "execution_count": 23,
     "metadata": {},
     "output_type": "execute_result"
    }
   ],
   "source": [
    "mat = np.array([[1, 2, 7], [3, 4, 10], [5, 6, 17]])\n",
    "mat"
   ]
  },
  {
   "cell_type": "code",
   "execution_count": 24,
   "id": "98354a18",
   "metadata": {},
   "outputs": [
    {
     "data": {
      "text/plain": [
       "array([[ 4, 10],\n",
       "       [ 6, 17]])"
      ]
     },
     "execution_count": 24,
     "metadata": {},
     "output_type": "execute_result"
    }
   ],
   "source": [
    "mat[1:, 1:]"
   ]
  },
  {
   "cell_type": "markdown",
   "id": "97d952e7",
   "metadata": {},
   "source": [
    "### advanced"
   ]
  },
  {
   "cell_type": "code",
   "execution_count": 25,
   "id": "650a5466",
   "metadata": {},
   "outputs": [
    {
     "data": {
      "text/plain": [
       "array([[0. , 2. , 5. ],\n",
       "       [2. , 4. , 9. ],\n",
       "       [5.6, 7. , 4. ]])"
      ]
     },
     "execution_count": 25,
     "metadata": {},
     "output_type": "execute_result"
    }
   ],
   "source": [
    "mat = [[0, 2, 5], [2, 4, 9], [5.6, 7, 4]]\n",
    "\n",
    "mat = np.array(mat)\n",
    "\n",
    "mat"
   ]
  },
  {
   "cell_type": "code",
   "execution_count": 26,
   "id": "8f5e0f70",
   "metadata": {},
   "outputs": [
    {
     "data": {
      "text/plain": [
       "array([5. , 9. , 5.6, 7. ])"
      ]
     },
     "execution_count": 26,
     "metadata": {},
     "output_type": "execute_result"
    }
   ],
   "source": [
    "mat[mat >= 5]"
   ]
  },
  {
   "cell_type": "code",
   "execution_count": 27,
   "id": "dd0c1bcb",
   "metadata": {},
   "outputs": [
    {
     "data": {
      "text/plain": [
       "array([[False, False,  True],\n",
       "       [False, False,  True],\n",
       "       [ True,  True, False]])"
      ]
     },
     "execution_count": 27,
     "metadata": {},
     "output_type": "execute_result"
    }
   ],
   "source": [
    "mat >= 5"
   ]
  }
 ],
 "metadata": {
  "kernelspec": {
   "display_name": "Python 3 (ipykernel)",
   "language": "python",
   "name": "python3"
  },
  "language_info": {
   "codemirror_mode": {
    "name": "ipython",
    "version": 3
   },
   "file_extension": ".py",
   "mimetype": "text/x-python",
   "name": "python",
   "nbconvert_exporter": "python",
   "pygments_lexer": "ipython3",
   "version": "3.8.10"
  }
 },
 "nbformat": 4,
 "nbformat_minor": 5
}
